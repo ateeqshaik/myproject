{
  "cells": [
    {
      "cell_type": "markdown",
      "metadata": {
        "id": "view-in-github",
        "colab_type": "text"
      },
      "source": [
        "<a href=\"https://colab.research.google.com/github/ateeqshaik/myproject/blob/main/credit_card_fraud.ipynb\" target=\"_parent\"><img src=\"https://colab.research.google.com/assets/colab-badge.svg\" alt=\"Open In Colab\"/></a>"
      ]
    },
    {
      "cell_type": "code",
      "execution_count": null,
      "metadata": {
        "_cell_guid": "b1076dfc-b9ad-4769-8c92-a6c4dae69d19",
        "_uuid": "8f2839f25d086af736a60e9eeb907d3b93b6e0e5",
        "execution": {
          "iopub.execute_input": "2020-12-23T18:03:29.096671Z",
          "iopub.status.busy": "2020-12-23T18:03:29.095971Z",
          "iopub.status.idle": "2020-12-23T18:03:29.112590Z",
          "shell.execute_reply": "2020-12-23T18:03:29.111998Z"
        },
        "papermill": {
          "duration": 0.039362,
          "end_time": "2020-12-23T18:03:29.112726",
          "exception": false,
          "start_time": "2020-12-23T18:03:29.073364",
          "status": "completed"
        },
        "tags": [],
        "id": "oBoVskmj4wsQ"
      },
      "outputs": [],
      "source": [
        "\n",
        "\n",
        "import numpy as np # linear algebra\n",
        "import pandas as pd # data processing, CSV file I/O (e.g. pd.read_csv)\n",
        "\n",
        "# Input data files are available in the read-only \"../input/\" directory\n",
        "# For example, running this (by clicking run or pressing Shift+Enter) will list all files under the input directory\n",
        "\n",
        "import os\n",
        "for dirname, _, filenames in os.walk('/kaggle/input'):\n",
        "    for filename in filenames:\n",
        "        print(os.path.join(dirname, filename))\n"
      ]
    },
    {
      "cell_type": "code",
      "source": [
        "# prompt: import the credicard fraud detection dataset  collected in Europe in 2013\n",
        "\n",
        "import pandas as pd\n",
        "\n",
        "# Assuming the dataset is in a CSV file named 'creditcard.csv' in the input directory\n",
        "data = pd.read_csv('\\Users\\ateeq\\Downloads\\creditcard.csv')\n",
        "\n",
        "# Now you can work with the data in the 'data' DataFrame\n",
        "print(data.head())  # Print the first few rows of the DataFrame to check if it loaded correctly\n"
      ],
      "metadata": {
        "colab": {
          "base_uri": "https://localhost:8080/",
          "height": 106
        },
        "id": "flWvOINmEKmv",
        "outputId": "7ff60868-b026-49b1-c6ba-5866be83fa47"
      },
      "execution_count": null,
      "outputs": [
        {
          "output_type": "error",
          "ename": "SyntaxError",
          "evalue": "(unicode error) 'unicodeescape' codec can't decode bytes in position 0-1: truncated \\UXXXXXXXX escape (<ipython-input-13-5f3035b77f0a>, line 6)",
          "traceback": [
            "\u001b[0;36m  File \u001b[0;32m\"<ipython-input-13-5f3035b77f0a>\"\u001b[0;36m, line \u001b[0;32m6\u001b[0m\n\u001b[0;31m    data = pd.read_csv('\\Users\\ateeq\\Downloads\\creditcard.csv')\u001b[0m\n\u001b[0m                                                              ^\u001b[0m\n\u001b[0;31mSyntaxError\u001b[0m\u001b[0;31m:\u001b[0m (unicode error) 'unicodeescape' codec can't decode bytes in position 0-1: truncated \\UXXXXXXXX escape\n"
          ]
        }
      ]
    },
    {
      "cell_type": "code",
      "execution_count": null,
      "metadata": {
        "_cell_guid": "79c7e3d0-c299-4dcb-8224-4455121ee9b0",
        "_uuid": "d629ff2d2480ee46fbb7e2d37f6b5fab8052498a",
        "execution": {
          "iopub.execute_input": "2020-12-23T18:03:29.149076Z",
          "iopub.status.busy": "2020-12-23T18:03:29.148381Z",
          "iopub.status.idle": "2020-12-23T18:03:33.486310Z",
          "shell.execute_reply": "2020-12-23T18:03:33.486825Z"
        },
        "papermill": {
          "duration": 4.359593,
          "end_time": "2020-12-23T18:03:33.486978",
          "exception": false,
          "start_time": "2020-12-23T18:03:29.127385",
          "status": "completed"
        },
        "tags": [],
        "colab": {
          "base_uri": "https://localhost:8080/",
          "height": 304
        },
        "id": "dzTwSzj84wsW",
        "outputId": "e89545b1-eb9a-4b81-c90d-1b0b06ef8c93"
      },
      "outputs": [
        {
          "output_type": "error",
          "ename": "FileNotFoundError",
          "evalue": "[Errno 2] No such file or directory: '/kaggle/input/creditcardfraud/creditcard.csv'",
          "traceback": [
            "\u001b[0;31m---------------------------------------------------------------------------\u001b[0m",
            "\u001b[0;31mFileNotFoundError\u001b[0m                         Traceback (most recent call last)",
            "\u001b[0;32m<ipython-input-4-04178ef3f0d2>\u001b[0m in \u001b[0;36m<cell line: 1>\u001b[0;34m()\u001b[0m\n\u001b[0;32m----> 1\u001b[0;31m \u001b[0mdata\u001b[0m \u001b[0;34m=\u001b[0m \u001b[0mpd\u001b[0m\u001b[0;34m.\u001b[0m\u001b[0mread_csv\u001b[0m\u001b[0;34m(\u001b[0m\u001b[0;34m'/kaggle/input/creditcardfraud/creditcard.csv'\u001b[0m\u001b[0;34m)\u001b[0m\u001b[0;34m\u001b[0m\u001b[0;34m\u001b[0m\u001b[0m\n\u001b[0m\u001b[1;32m      2\u001b[0m \u001b[0mdata\u001b[0m\u001b[0;34m.\u001b[0m\u001b[0mhead\u001b[0m\u001b[0;34m(\u001b[0m\u001b[0;34m)\u001b[0m\u001b[0;34m\u001b[0m\u001b[0;34m\u001b[0m\u001b[0m\n",
            "\u001b[0;32m/usr/local/lib/python3.10/dist-packages/pandas/io/parsers/readers.py\u001b[0m in \u001b[0;36mread_csv\u001b[0;34m(filepath_or_buffer, sep, delimiter, header, names, index_col, usecols, dtype, engine, converters, true_values, false_values, skipinitialspace, skiprows, skipfooter, nrows, na_values, keep_default_na, na_filter, verbose, skip_blank_lines, parse_dates, infer_datetime_format, keep_date_col, date_parser, date_format, dayfirst, cache_dates, iterator, chunksize, compression, thousands, decimal, lineterminator, quotechar, quoting, doublequote, escapechar, comment, encoding, encoding_errors, dialect, on_bad_lines, delim_whitespace, low_memory, memory_map, float_precision, storage_options, dtype_backend)\u001b[0m\n\u001b[1;32m    946\u001b[0m     \u001b[0mkwds\u001b[0m\u001b[0;34m.\u001b[0m\u001b[0mupdate\u001b[0m\u001b[0;34m(\u001b[0m\u001b[0mkwds_defaults\u001b[0m\u001b[0;34m)\u001b[0m\u001b[0;34m\u001b[0m\u001b[0;34m\u001b[0m\u001b[0m\n\u001b[1;32m    947\u001b[0m \u001b[0;34m\u001b[0m\u001b[0m\n\u001b[0;32m--> 948\u001b[0;31m     \u001b[0;32mreturn\u001b[0m \u001b[0m_read\u001b[0m\u001b[0;34m(\u001b[0m\u001b[0mfilepath_or_buffer\u001b[0m\u001b[0;34m,\u001b[0m \u001b[0mkwds\u001b[0m\u001b[0;34m)\u001b[0m\u001b[0;34m\u001b[0m\u001b[0;34m\u001b[0m\u001b[0m\n\u001b[0m\u001b[1;32m    949\u001b[0m \u001b[0;34m\u001b[0m\u001b[0m\n\u001b[1;32m    950\u001b[0m \u001b[0;34m\u001b[0m\u001b[0m\n",
            "\u001b[0;32m/usr/local/lib/python3.10/dist-packages/pandas/io/parsers/readers.py\u001b[0m in \u001b[0;36m_read\u001b[0;34m(filepath_or_buffer, kwds)\u001b[0m\n\u001b[1;32m    609\u001b[0m \u001b[0;34m\u001b[0m\u001b[0m\n\u001b[1;32m    610\u001b[0m     \u001b[0;31m# Create the parser.\u001b[0m\u001b[0;34m\u001b[0m\u001b[0;34m\u001b[0m\u001b[0m\n\u001b[0;32m--> 611\u001b[0;31m     \u001b[0mparser\u001b[0m \u001b[0;34m=\u001b[0m \u001b[0mTextFileReader\u001b[0m\u001b[0;34m(\u001b[0m\u001b[0mfilepath_or_buffer\u001b[0m\u001b[0;34m,\u001b[0m \u001b[0;34m**\u001b[0m\u001b[0mkwds\u001b[0m\u001b[0;34m)\u001b[0m\u001b[0;34m\u001b[0m\u001b[0;34m\u001b[0m\u001b[0m\n\u001b[0m\u001b[1;32m    612\u001b[0m \u001b[0;34m\u001b[0m\u001b[0m\n\u001b[1;32m    613\u001b[0m     \u001b[0;32mif\u001b[0m \u001b[0mchunksize\u001b[0m \u001b[0;32mor\u001b[0m \u001b[0miterator\u001b[0m\u001b[0;34m:\u001b[0m\u001b[0;34m\u001b[0m\u001b[0;34m\u001b[0m\u001b[0m\n",
            "\u001b[0;32m/usr/local/lib/python3.10/dist-packages/pandas/io/parsers/readers.py\u001b[0m in \u001b[0;36m__init__\u001b[0;34m(self, f, engine, **kwds)\u001b[0m\n\u001b[1;32m   1446\u001b[0m \u001b[0;34m\u001b[0m\u001b[0m\n\u001b[1;32m   1447\u001b[0m         \u001b[0mself\u001b[0m\u001b[0;34m.\u001b[0m\u001b[0mhandles\u001b[0m\u001b[0;34m:\u001b[0m \u001b[0mIOHandles\u001b[0m \u001b[0;34m|\u001b[0m \u001b[0;32mNone\u001b[0m \u001b[0;34m=\u001b[0m \u001b[0;32mNone\u001b[0m\u001b[0;34m\u001b[0m\u001b[0;34m\u001b[0m\u001b[0m\n\u001b[0;32m-> 1448\u001b[0;31m         \u001b[0mself\u001b[0m\u001b[0;34m.\u001b[0m\u001b[0m_engine\u001b[0m \u001b[0;34m=\u001b[0m \u001b[0mself\u001b[0m\u001b[0;34m.\u001b[0m\u001b[0m_make_engine\u001b[0m\u001b[0;34m(\u001b[0m\u001b[0mf\u001b[0m\u001b[0;34m,\u001b[0m \u001b[0mself\u001b[0m\u001b[0;34m.\u001b[0m\u001b[0mengine\u001b[0m\u001b[0;34m)\u001b[0m\u001b[0;34m\u001b[0m\u001b[0;34m\u001b[0m\u001b[0m\n\u001b[0m\u001b[1;32m   1449\u001b[0m \u001b[0;34m\u001b[0m\u001b[0m\n\u001b[1;32m   1450\u001b[0m     \u001b[0;32mdef\u001b[0m \u001b[0mclose\u001b[0m\u001b[0;34m(\u001b[0m\u001b[0mself\u001b[0m\u001b[0;34m)\u001b[0m \u001b[0;34m->\u001b[0m \u001b[0;32mNone\u001b[0m\u001b[0;34m:\u001b[0m\u001b[0;34m\u001b[0m\u001b[0;34m\u001b[0m\u001b[0m\n",
            "\u001b[0;32m/usr/local/lib/python3.10/dist-packages/pandas/io/parsers/readers.py\u001b[0m in \u001b[0;36m_make_engine\u001b[0;34m(self, f, engine)\u001b[0m\n\u001b[1;32m   1703\u001b[0m                 \u001b[0;32mif\u001b[0m \u001b[0;34m\"b\"\u001b[0m \u001b[0;32mnot\u001b[0m \u001b[0;32min\u001b[0m \u001b[0mmode\u001b[0m\u001b[0;34m:\u001b[0m\u001b[0;34m\u001b[0m\u001b[0;34m\u001b[0m\u001b[0m\n\u001b[1;32m   1704\u001b[0m                     \u001b[0mmode\u001b[0m \u001b[0;34m+=\u001b[0m \u001b[0;34m\"b\"\u001b[0m\u001b[0;34m\u001b[0m\u001b[0;34m\u001b[0m\u001b[0m\n\u001b[0;32m-> 1705\u001b[0;31m             self.handles = get_handle(\n\u001b[0m\u001b[1;32m   1706\u001b[0m                 \u001b[0mf\u001b[0m\u001b[0;34m,\u001b[0m\u001b[0;34m\u001b[0m\u001b[0;34m\u001b[0m\u001b[0m\n\u001b[1;32m   1707\u001b[0m                 \u001b[0mmode\u001b[0m\u001b[0;34m,\u001b[0m\u001b[0;34m\u001b[0m\u001b[0;34m\u001b[0m\u001b[0m\n",
            "\u001b[0;32m/usr/local/lib/python3.10/dist-packages/pandas/io/common.py\u001b[0m in \u001b[0;36mget_handle\u001b[0;34m(path_or_buf, mode, encoding, compression, memory_map, is_text, errors, storage_options)\u001b[0m\n\u001b[1;32m    861\u001b[0m         \u001b[0;32mif\u001b[0m \u001b[0mioargs\u001b[0m\u001b[0;34m.\u001b[0m\u001b[0mencoding\u001b[0m \u001b[0;32mand\u001b[0m \u001b[0;34m\"b\"\u001b[0m \u001b[0;32mnot\u001b[0m \u001b[0;32min\u001b[0m \u001b[0mioargs\u001b[0m\u001b[0;34m.\u001b[0m\u001b[0mmode\u001b[0m\u001b[0;34m:\u001b[0m\u001b[0;34m\u001b[0m\u001b[0;34m\u001b[0m\u001b[0m\n\u001b[1;32m    862\u001b[0m             \u001b[0;31m# Encoding\u001b[0m\u001b[0;34m\u001b[0m\u001b[0;34m\u001b[0m\u001b[0m\n\u001b[0;32m--> 863\u001b[0;31m             handle = open(\n\u001b[0m\u001b[1;32m    864\u001b[0m                 \u001b[0mhandle\u001b[0m\u001b[0;34m,\u001b[0m\u001b[0;34m\u001b[0m\u001b[0;34m\u001b[0m\u001b[0m\n\u001b[1;32m    865\u001b[0m                 \u001b[0mioargs\u001b[0m\u001b[0;34m.\u001b[0m\u001b[0mmode\u001b[0m\u001b[0;34m,\u001b[0m\u001b[0;34m\u001b[0m\u001b[0;34m\u001b[0m\u001b[0m\n",
            "\u001b[0;31mFileNotFoundError\u001b[0m: [Errno 2] No such file or directory: '/kaggle/input/creditcardfraud/creditcard.csv'"
          ]
        }
      ],
      "source": [
        "data = pd.read_csv('/kaggle/input/creditcardfraud/creditcard.csv')\n",
        "data.head()"
      ]
    },
    {
      "cell_type": "code",
      "execution_count": null,
      "metadata": {
        "execution": {
          "iopub.execute_input": "2020-12-23T18:03:33.522311Z",
          "iopub.status.busy": "2020-12-23T18:03:33.520020Z",
          "iopub.status.idle": "2020-12-23T18:03:33.555079Z",
          "shell.execute_reply": "2020-12-23T18:03:33.555574Z"
        },
        "papermill": {
          "duration": 0.053503,
          "end_time": "2020-12-23T18:03:33.555723",
          "exception": false,
          "start_time": "2020-12-23T18:03:33.502220",
          "status": "completed"
        },
        "tags": [],
        "id": "9lomsIfF4wsX",
        "outputId": "9e2cdc31-7dc4-42fc-8b4a-e2033429e462"
      },
      "outputs": [
        {
          "data": {
            "text/plain": [
              "Time      0\n",
              "V1        0\n",
              "V2        0\n",
              "V3        0\n",
              "V4        0\n",
              "V5        0\n",
              "V6        0\n",
              "V7        0\n",
              "V8        0\n",
              "V9        0\n",
              "V10       0\n",
              "V11       0\n",
              "V12       0\n",
              "V13       0\n",
              "V14       0\n",
              "V15       0\n",
              "V16       0\n",
              "V17       0\n",
              "V18       0\n",
              "V19       0\n",
              "V20       0\n",
              "V21       0\n",
              "V22       0\n",
              "V23       0\n",
              "V24       0\n",
              "V25       0\n",
              "V26       0\n",
              "V27       0\n",
              "V28       0\n",
              "Amount    0\n",
              "Class     0\n",
              "dtype: int64"
            ]
          },
          "execution_count": 3,
          "metadata": {},
          "output_type": "execute_result"
        }
      ],
      "source": [
        "data.isnull().sum()"
      ]
    },
    {
      "cell_type": "code",
      "execution_count": null,
      "metadata": {
        "execution": {
          "iopub.execute_input": "2020-12-23T18:03:33.620628Z",
          "iopub.status.busy": "2020-12-23T18:03:33.619934Z",
          "iopub.status.idle": "2020-12-23T18:03:34.035945Z",
          "shell.execute_reply": "2020-12-23T18:03:34.036453Z"
        },
        "papermill": {
          "duration": 0.465793,
          "end_time": "2020-12-23T18:03:34.036600",
          "exception": false,
          "start_time": "2020-12-23T18:03:33.570807",
          "status": "completed"
        },
        "tags": [],
        "id": "7ghToQMb4wsX",
        "outputId": "30929904-168c-42ee-c154-098274f33a9b"
      },
      "outputs": [
        {
          "data": {
            "text/html": [
              "<div>\n",
              "<style scoped>\n",
              "    .dataframe tbody tr th:only-of-type {\n",
              "        vertical-align: middle;\n",
              "    }\n",
              "\n",
              "    .dataframe tbody tr th {\n",
              "        vertical-align: top;\n",
              "    }\n",
              "\n",
              "    .dataframe thead th {\n",
              "        text-align: right;\n",
              "    }\n",
              "</style>\n",
              "<table border=\"1\" class=\"dataframe\">\n",
              "  <thead>\n",
              "    <tr style=\"text-align: right;\">\n",
              "      <th></th>\n",
              "      <th>Time</th>\n",
              "      <th>V1</th>\n",
              "      <th>V2</th>\n",
              "      <th>V3</th>\n",
              "      <th>V4</th>\n",
              "      <th>V5</th>\n",
              "      <th>V6</th>\n",
              "      <th>V7</th>\n",
              "      <th>V8</th>\n",
              "      <th>V9</th>\n",
              "      <th>...</th>\n",
              "      <th>V21</th>\n",
              "      <th>V22</th>\n",
              "      <th>V23</th>\n",
              "      <th>V24</th>\n",
              "      <th>V25</th>\n",
              "      <th>V26</th>\n",
              "      <th>V27</th>\n",
              "      <th>V28</th>\n",
              "      <th>Amount</th>\n",
              "      <th>Class</th>\n",
              "    </tr>\n",
              "  </thead>\n",
              "  <tbody>\n",
              "    <tr>\n",
              "      <th>count</th>\n",
              "      <td>284807.000000</td>\n",
              "      <td>2.848070e+05</td>\n",
              "      <td>2.848070e+05</td>\n",
              "      <td>2.848070e+05</td>\n",
              "      <td>2.848070e+05</td>\n",
              "      <td>2.848070e+05</td>\n",
              "      <td>2.848070e+05</td>\n",
              "      <td>2.848070e+05</td>\n",
              "      <td>2.848070e+05</td>\n",
              "      <td>2.848070e+05</td>\n",
              "      <td>...</td>\n",
              "      <td>2.848070e+05</td>\n",
              "      <td>2.848070e+05</td>\n",
              "      <td>2.848070e+05</td>\n",
              "      <td>2.848070e+05</td>\n",
              "      <td>2.848070e+05</td>\n",
              "      <td>2.848070e+05</td>\n",
              "      <td>2.848070e+05</td>\n",
              "      <td>2.848070e+05</td>\n",
              "      <td>284807.000000</td>\n",
              "      <td>284807.000000</td>\n",
              "    </tr>\n",
              "    <tr>\n",
              "      <th>mean</th>\n",
              "      <td>94813.859575</td>\n",
              "      <td>3.919560e-15</td>\n",
              "      <td>5.688174e-16</td>\n",
              "      <td>-8.769071e-15</td>\n",
              "      <td>2.782312e-15</td>\n",
              "      <td>-1.552563e-15</td>\n",
              "      <td>2.010663e-15</td>\n",
              "      <td>-1.694249e-15</td>\n",
              "      <td>-1.927028e-16</td>\n",
              "      <td>-3.137024e-15</td>\n",
              "      <td>...</td>\n",
              "      <td>1.537294e-16</td>\n",
              "      <td>7.959909e-16</td>\n",
              "      <td>5.367590e-16</td>\n",
              "      <td>4.458112e-15</td>\n",
              "      <td>1.453003e-15</td>\n",
              "      <td>1.699104e-15</td>\n",
              "      <td>-3.660161e-16</td>\n",
              "      <td>-1.206049e-16</td>\n",
              "      <td>88.349619</td>\n",
              "      <td>0.001727</td>\n",
              "    </tr>\n",
              "    <tr>\n",
              "      <th>std</th>\n",
              "      <td>47488.145955</td>\n",
              "      <td>1.958696e+00</td>\n",
              "      <td>1.651309e+00</td>\n",
              "      <td>1.516255e+00</td>\n",
              "      <td>1.415869e+00</td>\n",
              "      <td>1.380247e+00</td>\n",
              "      <td>1.332271e+00</td>\n",
              "      <td>1.237094e+00</td>\n",
              "      <td>1.194353e+00</td>\n",
              "      <td>1.098632e+00</td>\n",
              "      <td>...</td>\n",
              "      <td>7.345240e-01</td>\n",
              "      <td>7.257016e-01</td>\n",
              "      <td>6.244603e-01</td>\n",
              "      <td>6.056471e-01</td>\n",
              "      <td>5.212781e-01</td>\n",
              "      <td>4.822270e-01</td>\n",
              "      <td>4.036325e-01</td>\n",
              "      <td>3.300833e-01</td>\n",
              "      <td>250.120109</td>\n",
              "      <td>0.041527</td>\n",
              "    </tr>\n",
              "    <tr>\n",
              "      <th>min</th>\n",
              "      <td>0.000000</td>\n",
              "      <td>-5.640751e+01</td>\n",
              "      <td>-7.271573e+01</td>\n",
              "      <td>-4.832559e+01</td>\n",
              "      <td>-5.683171e+00</td>\n",
              "      <td>-1.137433e+02</td>\n",
              "      <td>-2.616051e+01</td>\n",
              "      <td>-4.355724e+01</td>\n",
              "      <td>-7.321672e+01</td>\n",
              "      <td>-1.343407e+01</td>\n",
              "      <td>...</td>\n",
              "      <td>-3.483038e+01</td>\n",
              "      <td>-1.093314e+01</td>\n",
              "      <td>-4.480774e+01</td>\n",
              "      <td>-2.836627e+00</td>\n",
              "      <td>-1.029540e+01</td>\n",
              "      <td>-2.604551e+00</td>\n",
              "      <td>-2.256568e+01</td>\n",
              "      <td>-1.543008e+01</td>\n",
              "      <td>0.000000</td>\n",
              "      <td>0.000000</td>\n",
              "    </tr>\n",
              "    <tr>\n",
              "      <th>25%</th>\n",
              "      <td>54201.500000</td>\n",
              "      <td>-9.203734e-01</td>\n",
              "      <td>-5.985499e-01</td>\n",
              "      <td>-8.903648e-01</td>\n",
              "      <td>-8.486401e-01</td>\n",
              "      <td>-6.915971e-01</td>\n",
              "      <td>-7.682956e-01</td>\n",
              "      <td>-5.540759e-01</td>\n",
              "      <td>-2.086297e-01</td>\n",
              "      <td>-6.430976e-01</td>\n",
              "      <td>...</td>\n",
              "      <td>-2.283949e-01</td>\n",
              "      <td>-5.423504e-01</td>\n",
              "      <td>-1.618463e-01</td>\n",
              "      <td>-3.545861e-01</td>\n",
              "      <td>-3.171451e-01</td>\n",
              "      <td>-3.269839e-01</td>\n",
              "      <td>-7.083953e-02</td>\n",
              "      <td>-5.295979e-02</td>\n",
              "      <td>5.600000</td>\n",
              "      <td>0.000000</td>\n",
              "    </tr>\n",
              "    <tr>\n",
              "      <th>50%</th>\n",
              "      <td>84692.000000</td>\n",
              "      <td>1.810880e-02</td>\n",
              "      <td>6.548556e-02</td>\n",
              "      <td>1.798463e-01</td>\n",
              "      <td>-1.984653e-02</td>\n",
              "      <td>-5.433583e-02</td>\n",
              "      <td>-2.741871e-01</td>\n",
              "      <td>4.010308e-02</td>\n",
              "      <td>2.235804e-02</td>\n",
              "      <td>-5.142873e-02</td>\n",
              "      <td>...</td>\n",
              "      <td>-2.945017e-02</td>\n",
              "      <td>6.781943e-03</td>\n",
              "      <td>-1.119293e-02</td>\n",
              "      <td>4.097606e-02</td>\n",
              "      <td>1.659350e-02</td>\n",
              "      <td>-5.213911e-02</td>\n",
              "      <td>1.342146e-03</td>\n",
              "      <td>1.124383e-02</td>\n",
              "      <td>22.000000</td>\n",
              "      <td>0.000000</td>\n",
              "    </tr>\n",
              "    <tr>\n",
              "      <th>75%</th>\n",
              "      <td>139320.500000</td>\n",
              "      <td>1.315642e+00</td>\n",
              "      <td>8.037239e-01</td>\n",
              "      <td>1.027196e+00</td>\n",
              "      <td>7.433413e-01</td>\n",
              "      <td>6.119264e-01</td>\n",
              "      <td>3.985649e-01</td>\n",
              "      <td>5.704361e-01</td>\n",
              "      <td>3.273459e-01</td>\n",
              "      <td>5.971390e-01</td>\n",
              "      <td>...</td>\n",
              "      <td>1.863772e-01</td>\n",
              "      <td>5.285536e-01</td>\n",
              "      <td>1.476421e-01</td>\n",
              "      <td>4.395266e-01</td>\n",
              "      <td>3.507156e-01</td>\n",
              "      <td>2.409522e-01</td>\n",
              "      <td>9.104512e-02</td>\n",
              "      <td>7.827995e-02</td>\n",
              "      <td>77.165000</td>\n",
              "      <td>0.000000</td>\n",
              "    </tr>\n",
              "    <tr>\n",
              "      <th>max</th>\n",
              "      <td>172792.000000</td>\n",
              "      <td>2.454930e+00</td>\n",
              "      <td>2.205773e+01</td>\n",
              "      <td>9.382558e+00</td>\n",
              "      <td>1.687534e+01</td>\n",
              "      <td>3.480167e+01</td>\n",
              "      <td>7.330163e+01</td>\n",
              "      <td>1.205895e+02</td>\n",
              "      <td>2.000721e+01</td>\n",
              "      <td>1.559499e+01</td>\n",
              "      <td>...</td>\n",
              "      <td>2.720284e+01</td>\n",
              "      <td>1.050309e+01</td>\n",
              "      <td>2.252841e+01</td>\n",
              "      <td>4.584549e+00</td>\n",
              "      <td>7.519589e+00</td>\n",
              "      <td>3.517346e+00</td>\n",
              "      <td>3.161220e+01</td>\n",
              "      <td>3.384781e+01</td>\n",
              "      <td>25691.160000</td>\n",
              "      <td>1.000000</td>\n",
              "    </tr>\n",
              "  </tbody>\n",
              "</table>\n",
              "<p>8 rows × 31 columns</p>\n",
              "</div>"
            ],
            "text/plain": [
              "                Time            V1            V2            V3            V4  \\\n",
              "count  284807.000000  2.848070e+05  2.848070e+05  2.848070e+05  2.848070e+05   \n",
              "mean    94813.859575  3.919560e-15  5.688174e-16 -8.769071e-15  2.782312e-15   \n",
              "std     47488.145955  1.958696e+00  1.651309e+00  1.516255e+00  1.415869e+00   \n",
              "min         0.000000 -5.640751e+01 -7.271573e+01 -4.832559e+01 -5.683171e+00   \n",
              "25%     54201.500000 -9.203734e-01 -5.985499e-01 -8.903648e-01 -8.486401e-01   \n",
              "50%     84692.000000  1.810880e-02  6.548556e-02  1.798463e-01 -1.984653e-02   \n",
              "75%    139320.500000  1.315642e+00  8.037239e-01  1.027196e+00  7.433413e-01   \n",
              "max    172792.000000  2.454930e+00  2.205773e+01  9.382558e+00  1.687534e+01   \n",
              "\n",
              "                 V5            V6            V7            V8            V9  \\\n",
              "count  2.848070e+05  2.848070e+05  2.848070e+05  2.848070e+05  2.848070e+05   \n",
              "mean  -1.552563e-15  2.010663e-15 -1.694249e-15 -1.927028e-16 -3.137024e-15   \n",
              "std    1.380247e+00  1.332271e+00  1.237094e+00  1.194353e+00  1.098632e+00   \n",
              "min   -1.137433e+02 -2.616051e+01 -4.355724e+01 -7.321672e+01 -1.343407e+01   \n",
              "25%   -6.915971e-01 -7.682956e-01 -5.540759e-01 -2.086297e-01 -6.430976e-01   \n",
              "50%   -5.433583e-02 -2.741871e-01  4.010308e-02  2.235804e-02 -5.142873e-02   \n",
              "75%    6.119264e-01  3.985649e-01  5.704361e-01  3.273459e-01  5.971390e-01   \n",
              "max    3.480167e+01  7.330163e+01  1.205895e+02  2.000721e+01  1.559499e+01   \n",
              "\n",
              "       ...           V21           V22           V23           V24  \\\n",
              "count  ...  2.848070e+05  2.848070e+05  2.848070e+05  2.848070e+05   \n",
              "mean   ...  1.537294e-16  7.959909e-16  5.367590e-16  4.458112e-15   \n",
              "std    ...  7.345240e-01  7.257016e-01  6.244603e-01  6.056471e-01   \n",
              "min    ... -3.483038e+01 -1.093314e+01 -4.480774e+01 -2.836627e+00   \n",
              "25%    ... -2.283949e-01 -5.423504e-01 -1.618463e-01 -3.545861e-01   \n",
              "50%    ... -2.945017e-02  6.781943e-03 -1.119293e-02  4.097606e-02   \n",
              "75%    ...  1.863772e-01  5.285536e-01  1.476421e-01  4.395266e-01   \n",
              "max    ...  2.720284e+01  1.050309e+01  2.252841e+01  4.584549e+00   \n",
              "\n",
              "                V25           V26           V27           V28         Amount  \\\n",
              "count  2.848070e+05  2.848070e+05  2.848070e+05  2.848070e+05  284807.000000   \n",
              "mean   1.453003e-15  1.699104e-15 -3.660161e-16 -1.206049e-16      88.349619   \n",
              "std    5.212781e-01  4.822270e-01  4.036325e-01  3.300833e-01     250.120109   \n",
              "min   -1.029540e+01 -2.604551e+00 -2.256568e+01 -1.543008e+01       0.000000   \n",
              "25%   -3.171451e-01 -3.269839e-01 -7.083953e-02 -5.295979e-02       5.600000   \n",
              "50%    1.659350e-02 -5.213911e-02  1.342146e-03  1.124383e-02      22.000000   \n",
              "75%    3.507156e-01  2.409522e-01  9.104512e-02  7.827995e-02      77.165000   \n",
              "max    7.519589e+00  3.517346e+00  3.161220e+01  3.384781e+01   25691.160000   \n",
              "\n",
              "               Class  \n",
              "count  284807.000000  \n",
              "mean        0.001727  \n",
              "std         0.041527  \n",
              "min         0.000000  \n",
              "25%         0.000000  \n",
              "50%         0.000000  \n",
              "75%         0.000000  \n",
              "max         1.000000  \n",
              "\n",
              "[8 rows x 31 columns]"
            ]
          },
          "execution_count": 4,
          "metadata": {},
          "output_type": "execute_result"
        }
      ],
      "source": [
        "data.describe()"
      ]
    },
    {
      "cell_type": "code",
      "execution_count": null,
      "metadata": {
        "execution": {
          "iopub.execute_input": "2020-12-23T18:03:34.072937Z",
          "iopub.status.busy": "2020-12-23T18:03:34.071995Z",
          "iopub.status.idle": "2020-12-23T18:03:34.131658Z",
          "shell.execute_reply": "2020-12-23T18:03:34.132225Z"
        },
        "papermill": {
          "duration": 0.079403,
          "end_time": "2020-12-23T18:03:34.132366",
          "exception": false,
          "start_time": "2020-12-23T18:03:34.052963",
          "status": "completed"
        },
        "tags": [],
        "id": "C0fLMIca4wsY",
        "outputId": "ed397a9e-ef38-40e9-99d1-2854270e6fde"
      },
      "outputs": [
        {
          "name": "stdout",
          "output_type": "stream",
          "text": [
            "Valid transaction 284315\n",
            "fraud transaction 492\n"
          ]
        }
      ],
      "source": [
        "print('Valid transaction',len(data[data['Class']==0]))\n",
        "print('fraud transaction',len(data[data['Class']==1]))"
      ]
    },
    {
      "cell_type": "code",
      "execution_count": null,
      "metadata": {
        "execution": {
          "iopub.execute_input": "2020-12-23T18:03:34.169928Z",
          "iopub.status.busy": "2020-12-23T18:03:34.168970Z",
          "iopub.status.idle": "2020-12-23T18:03:34.197118Z",
          "shell.execute_reply": "2020-12-23T18:03:34.197629Z"
        },
        "papermill": {
          "duration": 0.048638,
          "end_time": "2020-12-23T18:03:34.197783",
          "exception": false,
          "start_time": "2020-12-23T18:03:34.149145",
          "status": "completed"
        },
        "tags": [],
        "id": "Kmjnf_Vy4wsY"
      },
      "outputs": [],
      "source": [
        "y= data['Class']\n",
        "x= data.drop(columns=['Class'],axis=1)"
      ]
    },
    {
      "cell_type": "code",
      "execution_count": null,
      "metadata": {
        "execution": {
          "iopub.execute_input": "2020-12-23T18:03:34.234630Z",
          "iopub.status.busy": "2020-12-23T18:03:34.233587Z",
          "iopub.status.idle": "2020-12-23T18:03:35.356808Z",
          "shell.execute_reply": "2020-12-23T18:03:35.356260Z"
        },
        "papermill": {
          "duration": 1.142603,
          "end_time": "2020-12-23T18:03:35.356923",
          "exception": false,
          "start_time": "2020-12-23T18:03:34.214320",
          "status": "completed"
        },
        "tags": [],
        "id": "r-IE24we4wsY"
      },
      "outputs": [],
      "source": [
        "#splitting the data into train test\n",
        "from sklearn.model_selection import train_test_split\n",
        "x_train,x_test,y_train,y_test = train_test_split(x,y,test_size= 0.3,random_state=0)"
      ]
    },
    {
      "cell_type": "code",
      "execution_count": null,
      "metadata": {
        "execution": {
          "iopub.execute_input": "2020-12-23T18:03:35.396922Z",
          "iopub.status.busy": "2020-12-23T18:03:35.396202Z",
          "iopub.status.idle": "2020-12-23T18:03:35.579034Z",
          "shell.execute_reply": "2020-12-23T18:03:35.578466Z"
        },
        "papermill": {
          "duration": 0.204658,
          "end_time": "2020-12-23T18:03:35.579170",
          "exception": false,
          "start_time": "2020-12-23T18:03:35.374512",
          "status": "completed"
        },
        "tags": [],
        "id": "n51dihsR4wsZ"
      },
      "outputs": [],
      "source": [
        "# fitting randomforest model\n",
        "from sklearn.ensemble import RandomForestClassifier\n",
        "classifier = RandomForestClassifier()\n",
        "\n"
      ]
    },
    {
      "cell_type": "code",
      "execution_count": null,
      "metadata": {
        "execution": {
          "iopub.execute_input": "2020-12-23T18:03:35.621102Z",
          "iopub.status.busy": "2020-12-23T18:03:35.620442Z",
          "iopub.status.idle": "2020-12-23T18:04:02.933766Z",
          "shell.execute_reply": "2020-12-23T18:04:02.933223Z"
        },
        "papermill": {
          "duration": 27.337629,
          "end_time": "2020-12-23T18:04:02.933886",
          "exception": false,
          "start_time": "2020-12-23T18:03:35.596257",
          "status": "completed"
        },
        "tags": [],
        "id": "Su5EZhUF4wsZ",
        "outputId": "1a0b6569-6696-4893-ee85-3db33c62eba1"
      },
      "outputs": [
        {
          "data": {
            "text/plain": [
              "RandomForestClassifier(criterion='entropy', max_depth=10, n_estimators=20,\n",
              "                       random_state=0)"
            ]
          },
          "execution_count": 9,
          "metadata": {},
          "output_type": "execute_result"
        }
      ],
      "source": [
        "#model_1\n",
        "from sklearn.ensemble import RandomForestClassifier\n",
        "classifier = RandomForestClassifier(n_estimators=20,criterion='entropy', random_state=0,max_depth=10)\n",
        "classifier.fit(x_train,y_train)"
      ]
    },
    {
      "cell_type": "code",
      "execution_count": null,
      "metadata": {
        "execution": {
          "iopub.execute_input": "2020-12-23T18:04:02.982504Z",
          "iopub.status.busy": "2020-12-23T18:04:02.981785Z",
          "iopub.status.idle": "2020-12-23T18:04:03.126475Z",
          "shell.execute_reply": "2020-12-23T18:04:03.125701Z"
        },
        "papermill": {
          "duration": 0.172962,
          "end_time": "2020-12-23T18:04:03.126604",
          "exception": false,
          "start_time": "2020-12-23T18:04:02.953642",
          "status": "completed"
        },
        "tags": [],
        "id": "6LU9V-HX4wsa"
      },
      "outputs": [],
      "source": [
        "y_pred = classifier.predict(x_test)"
      ]
    },
    {
      "cell_type": "code",
      "execution_count": null,
      "metadata": {
        "execution": {
          "iopub.execute_input": "2020-12-23T18:04:03.170860Z",
          "iopub.status.busy": "2020-12-23T18:04:03.170145Z",
          "iopub.status.idle": "2020-12-23T18:04:03.411458Z",
          "shell.execute_reply": "2020-12-23T18:04:03.410769Z"
        },
        "papermill": {
          "duration": 0.266005,
          "end_time": "2020-12-23T18:04:03.411601",
          "exception": false,
          "start_time": "2020-12-23T18:04:03.145596",
          "status": "completed"
        },
        "tags": [],
        "id": "g5BQx1rp4wsa",
        "outputId": "a9416fbd-7954-4f61-ef01-b6869987b73d"
      },
      "outputs": [
        {
          "name": "stdout",
          "output_type": "stream",
          "text": [
            "Classifcation report:\n",
            "               precision    recall  f1-score   support\n",
            "\n",
            "           0       1.00      1.00      1.00     85296\n",
            "           1       0.95      0.76      0.85       147\n",
            "\n",
            "    accuracy                           1.00     85443\n",
            "   macro avg       0.97      0.88      0.92     85443\n",
            "weighted avg       1.00      1.00      1.00     85443\n",
            "\n",
            "Confusion matrix:\n",
            " [[85290     6]\n",
            " [   35   112]]\n"
          ]
        }
      ],
      "source": [
        "from sklearn.metrics import  classification_report, confusion_matrix\n",
        "print('Classifcation report:\\n', classification_report(y_test, y_pred))\n",
        "conf_mat = confusion_matrix(y_true=y_test, y_pred=y_pred)\n",
        "print('Confusion matrix:\\n', conf_mat)"
      ]
    },
    {
      "cell_type": "code",
      "execution_count": null,
      "metadata": {
        "execution": {
          "iopub.execute_input": "2020-12-23T18:04:03.453611Z",
          "iopub.status.busy": "2020-12-23T18:04:03.452877Z",
          "iopub.status.idle": "2020-12-23T18:04:46.354219Z",
          "shell.execute_reply": "2020-12-23T18:04:46.354750Z"
        },
        "papermill": {
          "duration": 42.924206,
          "end_time": "2020-12-23T18:04:46.354897",
          "exception": false,
          "start_time": "2020-12-23T18:04:03.430691",
          "status": "completed"
        },
        "tags": [],
        "id": "c7Pk9e5j4wsb",
        "outputId": "b9fc6b26-1495-46be-a628-8b358a8609fa"
      },
      "outputs": [
        {
          "data": {
            "text/plain": [
              "RandomForestClassifier(criterion='entropy', max_depth=10, n_estimators=30,\n",
              "                       random_state=0)"
            ]
          },
          "execution_count": 12,
          "metadata": {},
          "output_type": "execute_result"
        }
      ],
      "source": [
        "#model_2\n",
        "from sklearn.ensemble import RandomForestClassifier\n",
        "classifier = RandomForestClassifier(n_estimators=30,criterion='entropy', random_state=0,max_depth=10)\n",
        "classifier.fit(x_train,y_train)"
      ]
    },
    {
      "cell_type": "code",
      "execution_count": null,
      "metadata": {
        "execution": {
          "iopub.execute_input": "2020-12-23T18:04:46.395133Z",
          "iopub.status.busy": "2020-12-23T18:04:46.394488Z",
          "iopub.status.idle": "2020-12-23T18:04:46.595278Z",
          "shell.execute_reply": "2020-12-23T18:04:46.595791Z"
        },
        "papermill": {
          "duration": 0.222578,
          "end_time": "2020-12-23T18:04:46.595954",
          "exception": false,
          "start_time": "2020-12-23T18:04:46.373376",
          "status": "completed"
        },
        "tags": [],
        "id": "ZUhj3BG74wsb"
      },
      "outputs": [],
      "source": [
        "y_pred_2 = classifier.predict(x_test)"
      ]
    },
    {
      "cell_type": "code",
      "execution_count": null,
      "metadata": {
        "execution": {
          "iopub.execute_input": "2020-12-23T18:04:46.637318Z",
          "iopub.status.busy": "2020-12-23T18:04:46.636615Z",
          "iopub.status.idle": "2020-12-23T18:04:46.866911Z",
          "shell.execute_reply": "2020-12-23T18:04:46.867761Z"
        },
        "papermill": {
          "duration": 0.252972,
          "end_time": "2020-12-23T18:04:46.867981",
          "exception": false,
          "start_time": "2020-12-23T18:04:46.615009",
          "status": "completed"
        },
        "tags": [],
        "id": "fk60LRLw4wsb",
        "outputId": "d71fb9b5-4182-4800-8d36-0d536925dd46"
      },
      "outputs": [
        {
          "name": "stdout",
          "output_type": "stream",
          "text": [
            "Classifcation report:\n",
            "               precision    recall  f1-score   support\n",
            "\n",
            "           0       1.00      1.00      1.00     85296\n",
            "           1       0.95      0.78      0.86       147\n",
            "\n",
            "    accuracy                           1.00     85443\n",
            "   macro avg       0.98      0.89      0.93     85443\n",
            "weighted avg       1.00      1.00      1.00     85443\n",
            "\n",
            "Confusion matrix:\n",
            " [[85290     6]\n",
            " [   32   115]]\n"
          ]
        }
      ],
      "source": [
        "from sklearn.metrics import  classification_report, confusion_matrix\n",
        "print('Classifcation report:\\n', classification_report(y_test, y_pred_2))\n",
        "conf_mat = confusion_matrix(y_true=y_test, y_pred=y_pred_2)\n",
        "print('Confusion matrix:\\n', conf_mat)"
      ]
    },
    {
      "cell_type": "code",
      "execution_count": null,
      "metadata": {
        "execution": {
          "iopub.execute_input": "2020-12-23T18:04:46.916943Z",
          "iopub.status.busy": "2020-12-23T18:04:46.916234Z",
          "iopub.status.idle": "2020-12-23T18:04:47.681487Z",
          "shell.execute_reply": "2020-12-23T18:04:47.682371Z"
        },
        "papermill": {
          "duration": 0.794036,
          "end_time": "2020-12-23T18:04:47.682596",
          "exception": false,
          "start_time": "2020-12-23T18:04:46.888560",
          "status": "completed"
        },
        "tags": [],
        "id": "T0geuA3q4wsc",
        "outputId": "fd26e04c-3feb-4f8c-f9ca-4a02c77a5c78"
      },
      "outputs": [
        {
          "name": "stdout",
          "output_type": "stream",
          "text": [
            "Classifcation report:\n",
            "               precision    recall  f1-score   support\n",
            "\n",
            "           0       1.00      0.98      0.99     85296\n",
            "           1       0.06      0.89      0.12       147\n",
            "\n",
            "    accuracy                           0.98     85443\n",
            "   macro avg       0.53      0.93      0.55     85443\n",
            "weighted avg       1.00      0.98      0.99     85443\n",
            "\n",
            "Confusion matrix:\n",
            " [[83350  1946]\n",
            " [   16   131]]\n"
          ]
        }
      ],
      "source": [
        "#trying with undersmapling technique\n",
        "# This is the pipeline module we need from imblearn for Undersampling\n",
        "from imblearn.under_sampling import RandomUnderSampler\n",
        "from imblearn.pipeline import Pipeline\n",
        "\n",
        "\n",
        "# Define which resampling method and which ML model to use in the pipeline\n",
        "resampling = RandomUnderSampler()\n",
        "model = RandomForestClassifier(n_estimators=30,criterion='entropy', random_state=0,max_depth=10)\n",
        "\n",
        "\n",
        "# Define the pipeline and combine sampling method with the RF model\n",
        "pipeline = Pipeline([('RandomUnderSampler', resampling), ('RF', model)])\n",
        "pipeline.fit(x_train, y_train)\n",
        "predicted = pipeline.predict(x_test)\n",
        "\n",
        "\n",
        "# Obtain the results from the classification report and confusion matrix\n",
        "print('Classifcation report:\\n', classification_report(y_test, predicted))\n",
        "conf_mat = confusion_matrix(y_true=y_test, y_pred=predicted)\n",
        "print('Confusion matrix:\\n', conf_mat)"
      ]
    },
    {
      "cell_type": "code",
      "execution_count": null,
      "metadata": {
        "execution": {
          "iopub.execute_input": "2020-12-23T18:04:47.731835Z",
          "iopub.status.busy": "2020-12-23T18:04:47.731078Z",
          "iopub.status.idle": "2020-12-23T18:05:38.870258Z",
          "shell.execute_reply": "2020-12-23T18:05:38.871101Z"
        },
        "papermill": {
          "duration": 51.168031,
          "end_time": "2020-12-23T18:05:38.871338",
          "exception": false,
          "start_time": "2020-12-23T18:04:47.703307",
          "status": "completed"
        },
        "tags": [],
        "id": "0smBtZKk4wsc",
        "outputId": "bb3d52cb-7225-4a32-bfa9-5ce129d91ea1"
      },
      "outputs": [
        {
          "name": "stdout",
          "output_type": "stream",
          "text": [
            "Classifcation report:\n",
            "               precision    recall  f1-score   support\n",
            "\n",
            "           0       1.00      1.00      1.00     85296\n",
            "           1       0.83      0.79      0.81       147\n",
            "\n",
            "    accuracy                           1.00     85443\n",
            "   macro avg       0.91      0.89      0.90     85443\n",
            "weighted avg       1.00      1.00      1.00     85443\n",
            "\n",
            "Confusion matrix:\n",
            " [[85272    24]\n",
            " [   31   116]]\n"
          ]
        }
      ],
      "source": [
        "# This is the pipeline module we need from imblearn for Oversampling\n",
        "from imblearn.over_sampling import RandomOverSampler\n",
        "# Define which resampling method and which ML model to use in the pipeline\n",
        "resampling = RandomOverSampler()\n",
        "model = RandomForestClassifier(n_estimators=30,criterion='entropy', random_state=0,max_depth=10)\n",
        "\n",
        "# Define the pipeline and combine sampling method with the model\n",
        "pipeline = Pipeline([('RandomOverSampler', resampling), ('RF', model)])\n",
        "pipeline.fit(x_train, y_train)\n",
        "predicted = pipeline.predict(x_test)\n",
        "\n",
        "\n",
        "# Obtain the results from the classification report and confusion matrix\n",
        "print('Classifcation report:\\n', classification_report(y_test, predicted))\n",
        "conf_mat = confusion_matrix(y_true=y_test, y_pred=predicted)\n",
        "print('Confusion matrix:\\n', conf_mat)"
      ]
    },
    {
      "cell_type": "code",
      "execution_count": null,
      "metadata": {
        "execution": {
          "iopub.execute_input": "2020-12-23T18:05:38.922399Z",
          "iopub.status.busy": "2020-12-23T18:05:38.921662Z",
          "iopub.status.idle": "2020-12-23T18:07:22.562333Z",
          "shell.execute_reply": "2020-12-23T18:07:22.563228Z"
        },
        "papermill": {
          "duration": 103.670794,
          "end_time": "2020-12-23T18:07:22.563486",
          "exception": false,
          "start_time": "2020-12-23T18:05:38.892692",
          "status": "completed"
        },
        "tags": [],
        "id": "6eYa2ysF4wsc",
        "outputId": "3493d268-535e-4add-b9d2-a65de481512d"
      },
      "outputs": [
        {
          "name": "stdout",
          "output_type": "stream",
          "text": [
            "Classifcation report:\n",
            "               precision    recall  f1-score   support\n",
            "\n",
            "           0       1.00      1.00      1.00     85296\n",
            "           1       0.66      0.85      0.74       147\n",
            "\n",
            "    accuracy                           1.00     85443\n",
            "   macro avg       0.83      0.92      0.87     85443\n",
            "weighted avg       1.00      1.00      1.00     85443\n",
            "\n",
            "Confusion matrix:\n",
            " [[85232    64]\n",
            " [   22   125]]\n"
          ]
        }
      ],
      "source": [
        "# This is the pipeline module we need from imblearn for SMOTE\n",
        "from imblearn.over_sampling import SMOTE\n",
        "# Define which resampling method and which ML model to use in the pipeline\n",
        "resampling = SMOTE(sampling_strategy='auto',random_state=0)\n",
        "model = RandomForestClassifier(n_estimators=30,criterion='entropy', random_state=0,max_depth=10)\n",
        "\n",
        "# Define the pipeline and combine sampling method with the model\n",
        "pipeline = Pipeline([('SMOTE', resampling), ('RF', model)])\n",
        "pipeline.fit(x_train, y_train)\n",
        "predicted = pipeline.predict(x_test)\n",
        "\n",
        "\n",
        "# Obtain the results from the classification report and confusion matrix\n",
        "print('Classifcation report:\\n', classification_report(y_test, predicted))\n",
        "conf_mat = confusion_matrix(y_true=y_test, y_pred=predicted)\n",
        "print('Confusion matrix:\\n', conf_mat)"
      ]
    },
    {
      "cell_type": "code",
      "execution_count": null,
      "metadata": {
        "execution": {
          "iopub.execute_input": "2020-12-23T18:07:22.612784Z",
          "iopub.status.busy": "2020-12-23T18:07:22.612111Z",
          "iopub.status.idle": "2020-12-23T18:07:22.733125Z",
          "shell.execute_reply": "2020-12-23T18:07:22.732380Z"
        },
        "papermill": {
          "duration": 0.146866,
          "end_time": "2020-12-23T18:07:22.733267",
          "exception": false,
          "start_time": "2020-12-23T18:07:22.586401",
          "status": "completed"
        },
        "tags": [],
        "id": "1wS5RLNN4wsd"
      },
      "outputs": [],
      "source": [
        "import matplotlib.pyplot as plt\n",
        "import seaborn as sns"
      ]
    },
    {
      "cell_type": "code",
      "execution_count": null,
      "metadata": {
        "execution": {
          "iopub.execute_input": "2020-12-23T18:07:22.783857Z",
          "iopub.status.busy": "2020-12-23T18:07:22.783137Z",
          "iopub.status.idle": "2020-12-23T18:07:23.160480Z",
          "shell.execute_reply": "2020-12-23T18:07:23.159879Z"
        },
        "papermill": {
          "duration": 0.406274,
          "end_time": "2020-12-23T18:07:23.160603",
          "exception": false,
          "start_time": "2020-12-23T18:07:22.754329",
          "status": "completed"
        },
        "tags": [],
        "id": "j7A8YUS74wsd",
        "outputId": "41d278f9-fd58-4568-9ac9-a5f268268fa0"
      },
      "outputs": [
        {
          "data": {
            "image/png": "[encoded data removed]",
            "text/plain": [
              "<Figure size 864x864 with 2 Axes>"
            ]
          },
          "metadata": {
            "needs_background": "light"
          },
          "output_type": "display_data"
        }
      ],
      "source": [
        "#visulalizing the confusion matrix\n",
        "LABELS = ['Normal', 'Fraud']\n",
        "conf_matrix = confusion_matrix(y_test, y_pred)\n",
        "plt.figure(figsize =(12, 12))\n",
        "sns.heatmap(conf_matrix, xticklabels = LABELS, yticklabels = LABELS, annot = True, fmt =\"d\");\n",
        "plt.title(\"Confusion matrix\")\n",
        "plt.ylabel('True class')\n",
        "plt.xlabel('Predicted class')\n",
        "plt.show()"
      ]
    },
    {
      "cell_type": "code",
      "execution_count": null,
      "metadata": {
        "papermill": {
          "duration": 0.022111,
          "end_time": "2020-12-23T18:07:23.204865",
          "exception": false,
          "start_time": "2020-12-23T18:07:23.182754",
          "status": "completed"
        },
        "tags": [],
        "id": "LWRethJg4wsd"
      },
      "outputs": [],
      "source": [
        "# prompt: Give me code to plot AUPRC curve\n",
        "\n",
        "import matplotlib.pyplot as plt\n",
        "from sklearn.metrics import precision_recall_curve, auc\n",
        "\n",
        "# Assuming you have y_test and y_pred_proba from your model\n",
        "y_pred_proba = classifier.predict_proba(x_test)[:, 1]  # Probability of being class 1 (fraud)\n",
        "\n",
        "precision, recall, thresholds = precision_recall_curve(y_test, y_pred_proba)\n",
        "auprc = auc(recall, precision)\n",
        "\n",
        "plt.plot(recall, precision, label=f'AUPRC = {auprc:.2f}')\n",
        "plt.xlabel('Recall')\n",
        "plt.ylabel('Precision')\n",
        "plt.title('Precision-Recall Curve')\n",
        "plt.legend()\n",
        "plt.show()\n"
      ]
    }
  ],
  "metadata": {
    "kernelspec": {
      "display_name": "Python 3",
      "language": "python",
      "name": "python3"
    },
    "language_info": {
      "codemirror_mode": {
        "name": "ipython",
        "version": 3
      },
      "file_extension": ".py",
      "mimetype": "text/x-python",
      "name": "python",
      "nbconvert_exporter": "python",
      "pygments_lexer": "ipython3",
      "version": "3.7.6"
    },
    "papermill": {
      "duration": 238.828146,
      "end_time": "2020-12-23T18:07:23.335830",
      "environment_variables": {},
      "exception": null,
      "input_path": "__notebook__.ipynb",
      "output_path": "__notebook__.ipynb",
      "parameters": {},
      "start_time": "2020-12-23T18:03:24.507684",
      "version": "2.1.0"
    },
    "colab": {
      "provenance": [],
      "include_colab_link": true
    }
  },
  "nbformat": 4,
  "nbformat_minor": 0
}